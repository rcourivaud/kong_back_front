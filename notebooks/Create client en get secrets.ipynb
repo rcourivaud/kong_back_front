{
 "cells": [
  {
   "cell_type": "code",
   "execution_count": 6,
   "metadata": {},
   "outputs": [],
   "source": [
    "#!pip install python-keycloak"
   ]
  },
  {
   "cell_type": "code",
   "execution_count": 12,
   "metadata": {},
   "outputs": [],
   "source": [
    "import os\n",
    "from keycloak import KeycloakAdmin\n",
    "import uuid\n",
    "from keycloak.exceptions import KeycloakGetError\n"
   ]
  },
  {
   "cell_type": "code",
   "execution_count": null,
   "metadata": {},
   "outputs": [],
   "source": [
    "BACKEND_HOST_IP=enki-api\n",
    "KONG_HOST_IP=kong\n",
    "KONG_PORT=8001\n",
    "KEYCLOAK_HOST_IP=keycloak\n",
    "KEYCLOAK_PORT=8080\n",
    "BACKEND_HOST=api\n",
    "BACKEND_PORT=5000\n",
    "\n",
    "CLIENT_ID=kong_client_id\n",
    "POSTGRES_DB=api-gw\n",
    "POSTGRES_USER=kong\n",
    "POSTGRES_PASSWORD=kong"
   ]
  },
  {
   "cell_type": "code",
   "execution_count": 8,
   "metadata": {},
   "outputs": [],
   "source": [
    "KEYCLOAK_HOST_IP = os.environ.get(\"KEYCLOAK_HOST_IP\", \"keycloak\")\n",
    "KEYCLOAK_PORT = os.environ.get(\"KEYCLOAK_PORT\", \"8080\")\n",
    "KEYCLOAK_ADMIN_USER = os.environ.get(\"KEYCLOAK_ADMIN_USER\", \"admin\")\n",
    "KEYCLOAK_ADMIN_PASSWORD = os.environ.get(\"KEYCLOAK_ADMIN_PASSWORD\", \"Pa55w0rd\")\n",
    "CLIENT_ID = os.environ.get(\"CLIENT_ID\", \"kong-client-id\")\n",
    "CLIENT_SECRET = os.environ.get(\"CLIENT_SECRET\", \"client\")\n",
    "REALM_NAME = \"master\"\n",
    "KEYCLOAK_URL = f\"http://{KEYCLOAK_HOST_IP}:{KEYCLOAK_PORT}/auth/\"\n",
    "\n"
   ]
  },
  {
   "cell_type": "code",
   "execution_count": 53,
   "metadata": {},
   "outputs": [
    {
     "name": "stdout",
     "output_type": "stream",
     "text": [
      "Keycloak Kong client already exists\n"
     ]
    }
   ],
   "source": [
    "CLIENT_NAME = \"kong\"\n",
    "# Create kong client on Keycloak\n",
    "\n",
    "keycloak_admin = KeycloakAdmin(server_url=KEYCLOAK_URL,\n",
    "                               username=KEYCLOAK_ADMIN_USER,\n",
    "                                password=KEYCLOAK_ADMIN_PASSWORD,\n",
    "                               verify=True)\n",
    "\n",
    "CLIENT_KONG_KEYCLOAK_ID = str(uuid.uuid4())\n",
    "try:\n",
    "    keycloak_admin.create_client({\n",
    "        \"clientId\":CLIENT_NAME,\n",
    "        \"name\":CLIENT_NAME,\n",
    "        \"enabled\": True,\n",
    "        \"redirectUris\":[ \"/front/*\", \"/api/*\", \"/*\", \"*\" ],\n",
    "    })\n",
    "    \n",
    "    client_uuid = keycloak_admin.get_client_id(CLIENT_NAME)\n",
    "    keycloak_admin.generate_client_secrets(client_uuid)\n",
    "except KeycloakGetError as e:\n",
    "    if e.response_code == 409: \n",
    "        print(\"Keycloak Kong client already exists\")\n",
    "        \n",
    "    client_uuid = keycloak_admin.get_client_id(CLIENT_NAME)\n",
    "\n",
    "CLIENT_SECRET = keycloak_admin.get_client_secrets(client_uuid)['value']\n",
    "\n"
   ]
  },
  {
   "cell_type": "code",
   "execution_count": 54,
   "metadata": {},
   "outputs": [
    {
     "data": {
      "text/plain": [
       "'1065a6a4-6407-4e8d-8135-18a2751612d8'"
      ]
     },
     "execution_count": 54,
     "metadata": {},
     "output_type": "execute_result"
    }
   ],
   "source": [
    "CLIENT_SECRET"
   ]
  },
  {
   "cell_type": "code",
   "execution_count": null,
   "metadata": {},
   "outputs": [],
   "source": []
  }
 ],
 "metadata": {
  "kernelspec": {
   "display_name": "Python 3 (ipykernel)",
   "language": "python",
   "name": "python3"
  },
  "language_info": {
   "codemirror_mode": {
    "name": "ipython",
    "version": 3
   },
   "file_extension": ".py",
   "mimetype": "text/x-python",
   "name": "python",
   "nbconvert_exporter": "python",
   "pygments_lexer": "ipython3",
   "version": "3.8.10"
  }
 },
 "nbformat": 4,
 "nbformat_minor": 2
}
