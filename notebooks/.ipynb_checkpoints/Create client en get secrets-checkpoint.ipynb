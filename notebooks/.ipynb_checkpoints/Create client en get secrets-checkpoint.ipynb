{
 "cells": [
  {
   "cell_type": "code",
   "execution_count": 6,
   "metadata": {},
   "outputs": [],
   "source": [
    "#!pip install python-keycloak"
   ]
  },
  {
   "cell_type": "code",
   "execution_count": 12,
   "metadata": {},
   "outputs": [],
   "source": [
    "import os\n",
    "from keycloak import KeycloakAdmin\n",
    "import uuid\n",
    "from keycloak.exceptions import KeycloakGetError\n"
   ]
  },
  {
   "cell_type": "code",
   "execution_count": null,
   "metadata": {},
   "outputs": [],
   "source": [
    "BACKEND_HOST_IP=enki-api\n",
    "KONG_HOST_IP=kong\n",
    "KONG_PORT=8001\n",
    "KEYCLOAK_HOST_IP=keycloak\n",
    "KEYCLOAK_PORT=8080\n",
    "BACKEND_HOST=api\n",
    "BACKEND_PORT=5000\n",
    "\n",
    "CLIENT_ID=kong_client_id\n",
    "POSTGRES_DB=api-gw\n",
    "POSTGRES_USER=kong\n",
    "POSTGRES_PASSWORD=kong"
   ]
  },
  {
   "cell_type": "code",
   "execution_count": 8,
   "metadata": {},
   "outputs": [],
   "source": [
    "KEYCLOAK_HOST_IP = os.environ.get(\"KEYCLOAK_HOST_IP\", \"keycloak\")\n",
    "KEYCLOAK_PORT = os.environ.get(\"KEYCLOAK_PORT\", \"8080\")\n",
    "KEYCLOAK_ADMIN_USER = os.environ.get(\"KEYCLOAK_ADMIN_USER\", \"admin\")\n",
    "KEYCLOAK_ADMIN_PASSWORD = os.environ.get(\"KEYCLOAK_ADMIN_PASSWORD\", \"Pa55w0rd\")\n",
    "CLIENT_ID = os.environ.get(\"CLIENT_ID\", \"kong-client-id\")\n",
    "CLIENT_SECRET = os.environ.get(\"CLIENT_SECRET\", \"client\")\n",
    "REALM_NAME = \"master\"\n",
    "KEYCLOAK_URL = f\"http://{KEYCLOAK_HOST_IP}:{KEYCLOAK_PORT}/auth/\"\n",
    "\n"
   ]
  },
  {
   "cell_type": "code",
   "execution_count": 49,
   "metadata": {},
   "outputs": [],
   "source": [
    "CLIENT_NAME = \"kong\"\n",
    "# Create kong client on Keycloak\n",
    "\n",
    "keycloak_admin = KeycloakAdmin(server_url=KEYCLOAK_URL,\n",
    "                               username=KEYCLOAK_ADMIN_USER,\n",
    "                                password=KEYCLOAK_ADMIN_PASSWORD,\n",
    "                               verify=True)\n",
    "\n",
    "CLIENT_KONG_KEYCLOAK_ID = str(uuid.uuid4())\n",
    "try:\n",
    "    keycloak_admin.create_client({\n",
    "        \"clientId\":CLIENT_NAME,\n",
    "        \"name\":CLIENT_NAME,\n",
    "        \"enabled\": True,\n",
    "        \"redirectUris\":[ \"/front/*\", \"/api/*\", \"/*\", \"*\" ],\n",
    "    })\n",
    "    \n",
    "    client_uuid = keycloak_admin.get_client_id(CLIENT_NAME)\n",
    "    keycloak_admin.generate_client_secrets(client_uuid)\n",
    "except KeycloakGetError as e:\n",
    "    if e.response_code == 409: \n",
    "        print(\"Keycloak Kong client already exists\")\n",
    "        \n",
    "    client_uuid = keycloak_admin.get_client_id(CLIENT_NAME)\n",
    "\n",
    "CLIENT_SECRET = keycloak_admin.get_client_secrets(client_uuid)['value']\n",
    "\n"
   ]
  },
  {
   "cell_type": "code",
   "execution_count": 50,
   "metadata": {},
   "outputs": [
    {
     "data": {
      "text/plain": [
       "{'type': 'secret', 'value': '1065a6a4-6407-4e8d-8135-18a2751612d8'}"
      ]
     },
     "execution_count": 50,
     "metadata": {},
     "output_type": "execute_result"
    }
   ],
   "source": [
    "CLIENT_SECRET"
   ]
  },
  {
   "cell_type": "code",
   "execution_count": 31,
   "metadata": {},
   "outputs": [
    {
     "data": {
      "text/plain": [
       "'8fa425cd-eedd-42be-acaf-549ef2e750cb'"
      ]
     },
     "execution_count": 31,
     "metadata": {},
     "output_type": "execute_result"
    }
   ],
   "source": [
    "CLIENT_KONG_KEYCLOAK_ID"
   ]
  },
  {
   "cell_type": "code",
   "execution_count": 24,
   "metadata": {},
   "outputs": [
    {
     "data": {
      "text/plain": [
       "'8fa425cd-eedd-42be-acaf-549ef2e750cb'"
      ]
     },
     "execution_count": 24,
     "metadata": {},
     "output_type": "execute_result"
    }
   ],
   "source": [
    "CLIENT_KONG_KEYCLOAK_ID"
   ]
  },
  {
   "cell_type": "code",
   "execution_count": 27,
   "metadata": {
    "scrolled": false
   },
   "outputs": [
    {
     "data": {
      "text/plain": [
       "'6e97da25-b772-4728-9835-bd10ce35a741'"
      ]
     },
     "execution_count": 27,
     "metadata": {},
     "output_type": "execute_result"
    }
   ],
   "source": []
  },
  {
   "cell_type": "code",
   "execution_count": 30,
   "metadata": {},
   "outputs": [
    {
     "name": "stdout",
     "output_type": "stream",
     "text": [
      "{'type': 'secret', 'value': '4361c46c-5565-4fb2-978f-6d6c443f8e41'}\n"
     ]
    }
   ],
   "source": []
  },
  {
   "cell_type": "code",
   "execution_count": 16,
   "metadata": {},
   "outputs": [
    {
     "ename": "KeycloakGetError",
     "evalue": "404: b'{\"error\":\"Could not find client\"}'",
     "output_type": "error",
     "traceback": [
      "\u001b[0;31m---------------------------------------------------------------------------\u001b[0m",
      "\u001b[0;31mKeycloakGetError\u001b[0m                          Traceback (most recent call last)",
      "\u001b[0;32m/var/folders/x4/1hlmtvlj5q562t6xsngjlgqw0000gn/T/ipykernel_92495/1436310708.py\u001b[0m in \u001b[0;36m<module>\u001b[0;34m\u001b[0m\n\u001b[0;32m----> 1\u001b[0;31m \u001b[0mCLIENT_SECRET\u001b[0m \u001b[0;34m=\u001b[0m \u001b[0mkeycloak_admin\u001b[0m\u001b[0;34m.\u001b[0m\u001b[0mget_client_secrets\u001b[0m\u001b[0;34m(\u001b[0m\u001b[0mCLIENT_ID\u001b[0m\u001b[0;34m)\u001b[0m\u001b[0;34m\u001b[0m\u001b[0;34m\u001b[0m\u001b[0m\n\u001b[0m",
      "\u001b[0;32m~/anaconda3/envs/kong_back_front/lib/python3.8/site-packages/keycloak/keycloak_admin.py\u001b[0m in \u001b[0;36mget_client_secrets\u001b[0;34m(self, client_id)\u001b[0m\n\u001b[1;32m   1671\u001b[0m         \u001b[0mparams_path\u001b[0m \u001b[0;34m=\u001b[0m \u001b[0;34m{\u001b[0m\u001b[0;34m\"realm-name\"\u001b[0m\u001b[0;34m:\u001b[0m \u001b[0mself\u001b[0m\u001b[0;34m.\u001b[0m\u001b[0mrealm_name\u001b[0m\u001b[0;34m,\u001b[0m \u001b[0;34m\"id\"\u001b[0m\u001b[0;34m:\u001b[0m \u001b[0mclient_id\u001b[0m\u001b[0;34m}\u001b[0m\u001b[0;34m\u001b[0m\u001b[0;34m\u001b[0m\u001b[0m\n\u001b[1;32m   1672\u001b[0m         \u001b[0mdata_raw\u001b[0m \u001b[0;34m=\u001b[0m \u001b[0mself\u001b[0m\u001b[0;34m.\u001b[0m\u001b[0mraw_get\u001b[0m\u001b[0;34m(\u001b[0m\u001b[0mURL_ADMIN_CLIENT_SECRETS\u001b[0m\u001b[0;34m.\u001b[0m\u001b[0mformat\u001b[0m\u001b[0;34m(\u001b[0m\u001b[0;34m**\u001b[0m\u001b[0mparams_path\u001b[0m\u001b[0;34m)\u001b[0m\u001b[0;34m)\u001b[0m\u001b[0;34m\u001b[0m\u001b[0;34m\u001b[0m\u001b[0m\n\u001b[0;32m-> 1673\u001b[0;31m         \u001b[0;32mreturn\u001b[0m \u001b[0mraise_error_from_response\u001b[0m\u001b[0;34m(\u001b[0m\u001b[0mdata_raw\u001b[0m\u001b[0;34m,\u001b[0m \u001b[0mKeycloakGetError\u001b[0m\u001b[0;34m)\u001b[0m\u001b[0;34m\u001b[0m\u001b[0;34m\u001b[0m\u001b[0m\n\u001b[0m\u001b[1;32m   1674\u001b[0m \u001b[0;34m\u001b[0m\u001b[0m\n\u001b[1;32m   1675\u001b[0m     \u001b[0;32mdef\u001b[0m \u001b[0mget_components\u001b[0m\u001b[0;34m(\u001b[0m\u001b[0mself\u001b[0m\u001b[0;34m,\u001b[0m \u001b[0mquery\u001b[0m\u001b[0;34m=\u001b[0m\u001b[0;32mNone\u001b[0m\u001b[0;34m)\u001b[0m\u001b[0;34m:\u001b[0m\u001b[0;34m\u001b[0m\u001b[0;34m\u001b[0m\u001b[0m\n",
      "\u001b[0;32m~/anaconda3/envs/kong_back_front/lib/python3.8/site-packages/keycloak/exceptions.py\u001b[0m in \u001b[0;36mraise_error_from_response\u001b[0;34m(response, error, expected_codes, skip_exists)\u001b[0m\n\u001b[1;32m    104\u001b[0m             \u001b[0merror\u001b[0m \u001b[0;34m=\u001b[0m \u001b[0mKeycloakAuthenticationError\u001b[0m\u001b[0;34m\u001b[0m\u001b[0;34m\u001b[0m\u001b[0m\n\u001b[1;32m    105\u001b[0m \u001b[0;34m\u001b[0m\u001b[0m\n\u001b[0;32m--> 106\u001b[0;31m     raise error(error_message=message,\n\u001b[0m\u001b[1;32m    107\u001b[0m                 \u001b[0mresponse_code\u001b[0m\u001b[0;34m=\u001b[0m\u001b[0mresponse\u001b[0m\u001b[0;34m.\u001b[0m\u001b[0mstatus_code\u001b[0m\u001b[0;34m,\u001b[0m\u001b[0;34m\u001b[0m\u001b[0;34m\u001b[0m\u001b[0m\n\u001b[1;32m    108\u001b[0m                 response_body=response.content)\n",
      "\u001b[0;31mKeycloakGetError\u001b[0m: 404: b'{\"error\":\"Could not find client\"}'"
     ]
    }
   ],
   "source": [
    "CLIENT_SECRET = keycloak_admin.get_client_secrets(CLIENT_ID)\n"
   ]
  },
  {
   "cell_type": "code",
   "execution_count": null,
   "metadata": {},
   "outputs": [],
   "source": []
  }
 ],
 "metadata": {
  "kernelspec": {
   "display_name": "Python 3 (ipykernel)",
   "language": "python",
   "name": "python3"
  },
  "language_info": {
   "codemirror_mode": {
    "name": "ipython",
    "version": 3
   },
   "file_extension": ".py",
   "mimetype": "text/x-python",
   "name": "python",
   "nbconvert_exporter": "python",
   "pygments_lexer": "ipython3",
   "version": "3.8.10"
  }
 },
 "nbformat": 4,
 "nbformat_minor": 2
}
