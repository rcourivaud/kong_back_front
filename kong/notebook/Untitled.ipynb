{
 "cells": [
  {
   "cell_type": "code",
   "execution_count": 9,
   "metadata": {},
   "outputs": [],
   "source": [
    "import requests"
   ]
  },
  {
   "cell_type": "code",
   "execution_count": 3,
   "metadata": {},
   "outputs": [],
   "source": [
    "ENKI_API_SERVICE_ID = \"enki\""
   ]
  },
  {
   "cell_type": "code",
   "execution_count": 6,
   "metadata": {},
   "outputs": [],
   "source": [
    "KONG_HOST_IP = \"localhost\"\n",
    "KONG_PORT = 8001"
   ]
  },
  {
   "cell_type": "code",
   "execution_count": 12,
   "metadata": {},
   "outputs": [
    {
     "name": "stdout",
     "output_type": "stream",
     "text": [
      "http://localhost:8001/services\n"
     ]
    }
   ],
   "source": [
    "data = {\n",
    "    'name': ENKI_API_SERVICE_ID,\n",
    "    'url': f'http://nginx:7777/'\n",
    "}\n",
    "print(f'http://{KONG_HOST_IP}:{KONG_PORT}/services')"
   ]
  },
  {
   "cell_type": "code",
   "execution_count": 14,
   "metadata": {},
   "outputs": [],
   "source": [
    "response = requests.post(f'http://{KONG_HOST_IP}:{KONG_PORT}/services', data=data)"
   ]
  },
  {
   "cell_type": "code",
   "execution_count": 18,
   "metadata": {},
   "outputs": [],
   "source": [
    "created_service_id = response.json()[\"id\"]"
   ]
  },
  {
   "cell_type": "code",
   "execution_count": 19,
   "metadata": {},
   "outputs": [],
   "source": [
    "data = {\n",
    "    'service.id': f'{created_service_id}',\n",
    "    'paths[]': '/enki',\n",
    "}\n",
    "\n",
    "_ = requests.post(f'http://{KONG_HOST_IP}:{KONG_PORT}/services/{ENKI_API_SERVICE_ID}/routes', data=data)\n"
   ]
  },
  {
   "cell_type": "code",
   "execution_count": 20,
   "metadata": {},
   "outputs": [
    {
     "data": {
      "text/plain": [
       "{'created_at': 1617893833,\n",
       " 'destinations': None,\n",
       " 'headers': None,\n",
       " 'hosts': None,\n",
       " 'https_redirect_status_code': 426,\n",
       " 'id': '84b283dd-1f43-497b-b3e0-1935f68afeaf',\n",
       " 'methods': None,\n",
       " 'name': None,\n",
       " 'path_handling': 'v0',\n",
       " 'paths': ['/enki'],\n",
       " 'preserve_host': False,\n",
       " 'protocols': ['http', 'https'],\n",
       " 'regex_priority': 0,\n",
       " 'request_buffering': True,\n",
       " 'response_buffering': True,\n",
       " 'service': {'id': 'b9ab59e4-8ed6-4ff2-95f6-63b840238e98'},\n",
       " 'snis': None,\n",
       " 'sources': None,\n",
       " 'strip_path': True,\n",
       " 'tags': None,\n",
       " 'updated_at': 1617893833}"
      ]
     },
     "execution_count": 20,
     "metadata": {},
     "output_type": "execute_result"
    }
   ],
   "source": [
    "_.json()"
   ]
  },
  {
   "cell_type": "code",
   "execution_count": null,
   "metadata": {},
   "outputs": [],
   "source": []
  }
 ],
 "metadata": {
  "kernelspec": {
   "display_name": "Python 3",
   "language": "python",
   "name": "python3"
  },
  "language_info": {
   "codemirror_mode": {
    "name": "ipython",
    "version": 3
   },
   "file_extension": ".py",
   "mimetype": "text/x-python",
   "name": "python",
   "nbconvert_exporter": "python",
   "pygments_lexer": "ipython3",
   "version": "3.6.10"
  }
 },
 "nbformat": 4,
 "nbformat_minor": 2
}
