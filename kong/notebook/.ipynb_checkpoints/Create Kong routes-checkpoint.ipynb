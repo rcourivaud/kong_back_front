{
 "cells": [
  {
   "cell_type": "code",
   "execution_count": 9,
   "metadata": {},
   "outputs": [],
   "source": [
    "import requests"
   ]
  },
  {
   "cell_type": "code",
   "execution_count": 3,
   "metadata": {},
   "outputs": [],
   "source": [
    "ENKI_API_SERVICE_ID = \"enki\""
   ]
  },
  {
   "cell_type": "code",
   "execution_count": 67,
   "metadata": {},
   "outputs": [],
   "source": [
    "KONG_HOST_IP = \"localhost\"\n",
    "KONG_PORT = 8001\n",
    "\n",
    "KEYCLOAK_URL = \"http://localhost:8080/auth/\"\n",
    "USERNAME = \"admin\"\n",
    "PASSWORD = 'Pa55w0rd'\n",
    "MASTER_REALM_NAME = \"master\"\n",
    "\n",
    "CLIENT_ID = \"kong_test_client-4\"\n"
   ]
  },
  {
   "cell_type": "code",
   "execution_count": 78,
   "metadata": {},
   "outputs": [],
   "source": [
    "#def clean():\n",
    "response = requests.get(f'http://{KONG_HOST_IP}:{KONG_PORT}/routes')\n",
    "for _id in [e[\"id\"] for e in response.json()[\"data\"]]:\n",
    "    requests.delete(f'http://{KONG_HOST_IP}:{KONG_PORT}/routes/{_id}')\n",
    "response = requests.get(f'http://{KONG_HOST_IP}:{KONG_PORT}/services')\n",
    "for _id in [e[\"id\"] for e in response.json()[\"data\"]]:\n",
    "    requests.delete(f'http://{KONG_HOST_IP}:{KONG_PORT}/services/{_id}')"
   ]
  },
  {
   "cell_type": "markdown",
   "metadata": {},
   "source": [
    "# Create Kong client "
   ]
  },
  {
   "cell_type": "code",
   "execution_count": 68,
   "metadata": {},
   "outputs": [],
   "source": [
    "from keycloak import KeycloakAdmin\n",
    "\n",
    "\n",
    "\n",
    "#%%\n",
    "\n",
    "keycloak_admin = KeycloakAdmin(server_url=KEYCLOAK_URL,\n",
    "                               username=USERNAME,\n",
    "                           password=PASSWORD,\n",
    "                               verify=True)"
   ]
  },
  {
   "cell_type": "code",
   "execution_count": 70,
   "metadata": {},
   "outputs": [
    {
     "data": {
      "text/plain": [
       "b''"
      ]
     },
     "execution_count": 70,
     "metadata": {},
     "output_type": "execute_result"
    }
   ],
   "source": [
    "keycloak_admin.create_client({\n",
    " \"id\":\"4\",\n",
    " \"clientId\":CLIENT_ID,\n",
    " \"name\":CLIENT_ID,\n",
    " \"enabled\": True,\n",
    " \"redirectUris\":[ \"/front/*\", \"/api/*\" ],\n",
    "})"
   ]
  },
  {
   "cell_type": "code",
   "execution_count": 71,
   "metadata": {},
   "outputs": [
    {
     "data": {
      "text/plain": [
       "'9d0cd4b1-aa0b-4020-804a-c34af78f499e'"
      ]
     },
     "execution_count": 71,
     "metadata": {},
     "output_type": "execute_result"
    }
   ],
   "source": [
    "client_secret_key = keycloak_admin.get_client_secrets(\"4\")[\"value\"]\n",
    "client_secret_key"
   ]
  },
  {
   "cell_type": "code",
   "execution_count": 73,
   "metadata": {},
   "outputs": [
    {
     "name": "stdout",
     "output_type": "stream",
     "text": [
      "http://localhost:8080/auth/realms/master/protocol/openid-connect/token/introspect\n",
      "http://localhost:8080/auth/realms/master/.well-known/openid-configuration\n"
     ]
    }
   ],
   "source": [
    "services = [\n",
    "    {\n",
    "        'name': \"front_service\",\n",
    "        'url': f'http://nginx:7777/front',\n",
    "        'path': \"front\"\n",
    "\n",
    "    },\n",
    "        {\n",
    "        'name': \"api_service\",\n",
    "        'url': f'http://nginx:7777/api',\n",
    "        'path': \"api\"\n",
    "\n",
    "    }\n",
    "]\n",
    "\n",
    "REALM_NAME = \"master\"\n",
    "KEYCLOAK_HOST_IP=\"localhost\"\n",
    "KEYCLOAK_PORT=8080\n",
    "\n",
    "introspection_url = f'http://{KEYCLOAK_HOST_IP}:{KEYCLOAK_PORT}/auth/realms/{REALM_NAME}/protocol/openid-connect/token/introspect'\n",
    "discovery_url = f'http://{KEYCLOAK_HOST_IP}:{KEYCLOAK_PORT}/auth/realms/{REALM_NAME}/.well-known/openid-configuration'\n",
    "\"http://localhost:8080/auth/realms/master/protocol/openid-connect/token/introspect\"\n",
    "print(introspection_url)\n",
    "print(discovery_url)"
   ]
  },
  {
   "cell_type": "code",
   "execution_count": 75,
   "metadata": {},
   "outputs": [
    {
     "ename": "KeyError",
     "evalue": "'id'",
     "output_type": "error",
     "traceback": [
      "\u001b[0;31m---------------------------------------------------------------------------\u001b[0m",
      "\u001b[0;31mKeyError\u001b[0m                                  Traceback (most recent call last)",
      "\u001b[0;32m<ipython-input-75-39bee8e59283>\u001b[0m in \u001b[0;36m<module>\u001b[0;34m()\u001b[0m\n\u001b[1;32m      4\u001b[0m     \u001b[0;31m# Create Service\u001b[0m\u001b[0;34m\u001b[0m\u001b[0;34m\u001b[0m\u001b[0;34m\u001b[0m\u001b[0m\n\u001b[1;32m      5\u001b[0m     \u001b[0mresponse\u001b[0m \u001b[0;34m=\u001b[0m \u001b[0mrequests\u001b[0m\u001b[0;34m.\u001b[0m\u001b[0mpost\u001b[0m\u001b[0;34m(\u001b[0m\u001b[0;34mf'http://{KONG_HOST_IP}:{KONG_PORT}/services'\u001b[0m\u001b[0;34m,\u001b[0m \u001b[0mdata\u001b[0m\u001b[0;34m=\u001b[0m\u001b[0mdata\u001b[0m\u001b[0;34m)\u001b[0m\u001b[0;34m\u001b[0m\u001b[0;34m\u001b[0m\u001b[0m\n\u001b[0;32m----> 6\u001b[0;31m     \u001b[0mcreated_service_id\u001b[0m \u001b[0;34m=\u001b[0m \u001b[0mresponse\u001b[0m\u001b[0;34m.\u001b[0m\u001b[0mjson\u001b[0m\u001b[0;34m(\u001b[0m\u001b[0;34m)\u001b[0m\u001b[0;34m[\u001b[0m\u001b[0;34m\"id\"\u001b[0m\u001b[0;34m]\u001b[0m\u001b[0;34m\u001b[0m\u001b[0;34m\u001b[0m\u001b[0m\n\u001b[0m\u001b[1;32m      7\u001b[0m \u001b[0;34m\u001b[0m\u001b[0m\n\u001b[1;32m      8\u001b[0m     \u001b[0;31m# Create route\u001b[0m\u001b[0;34m\u001b[0m\u001b[0;34m\u001b[0m\u001b[0;34m\u001b[0m\u001b[0m\n",
      "\u001b[0;31mKeyError\u001b[0m: 'id'"
     ]
    }
   ],
   "source": [
    "for service in services:\n",
    "    data = service\n",
    "    \n",
    "    # Create Service\n",
    "    response = requests.post(f'http://{KONG_HOST_IP}:{KONG_PORT}/services', data=data)\n",
    "    created_service_id = response.json()[\"id\"]\n",
    "    \n",
    "    # Create route\n",
    "    data = {\n",
    "        'service.id': f'{created_service_id}',\n",
    "        'paths[]': f'/{service[\"path\"]}',\n",
    "    }\n",
    "\n",
    "    response = requests.post(f'http://{KONG_HOST_IP}:{KONG_PORT}/services/{service[\"name\"]}/routes', data=data)      \n",
    "    print(response.json())\n",
    "    # Configure OIDC \n",
    "    data = {\n",
    "        'name': 'oidc',\n",
    "        'config.client_id': f'{CLIENT_ID}',\n",
    "        'config.client_secret': f'{client_secret_key}',\n",
    "        'config.realm': f'{REALM_NAME}',\n",
    "        'config.bearer_only': 'true',\n",
    "        'config.introspection_endpoint':introspection_url,\n",
    "        'config.discovery':discovery_url\n",
    "    }\n",
    "\n",
    "    response = requests.post(f'http://{KONG_HOST_IP}:{KONG_PORT}/services/{created_service_id}/plugins', data=data)\n",
    "    print(response.json())\n"
   ]
  },
  {
   "cell_type": "code",
   "execution_count": 76,
   "metadata": {},
   "outputs": [
    {
     "data": {
      "text/plain": [
       "'http://localhost:8001/services/d2b6908c-3fcd-4090-a3b5-9f0ae573196f/plugins'"
      ]
     },
     "execution_count": 76,
     "metadata": {},
     "output_type": "execute_result"
    }
   ],
   "source": [
    "f\"http://{KONG_HOST_IP}:{KONG_PORT}/services/{created_service_id}/plugins\""
   ]
  },
  {
   "cell_type": "code",
   "execution_count": null,
   "metadata": {},
   "outputs": [],
   "source": []
  }
 ],
 "metadata": {
  "kernelspec": {
   "display_name": "Python 3",
   "language": "python",
   "name": "python3"
  },
  "language_info": {
   "codemirror_mode": {
    "name": "ipython",
    "version": 3
   },
   "file_extension": ".py",
   "mimetype": "text/x-python",
   "name": "python",
   "nbconvert_exporter": "python",
   "pygments_lexer": "ipython3",
   "version": "3.6.10"
  }
 },
 "nbformat": 4,
 "nbformat_minor": 2
}
